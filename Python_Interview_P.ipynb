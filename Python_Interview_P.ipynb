{
 "cells": [
  {
   "cell_type": "markdown",
   "id": "22f0d7db",
   "metadata": {},
   "source": [
    "### Replace the first to lost values in a list"
   ]
  },
  {
   "cell_type": "code",
   "execution_count": 7,
   "id": "fc727132",
   "metadata": {},
   "outputs": [
    {
     "name": "stdout",
     "output_type": "stream",
     "text": [
      "Final List : [35, 6, 8, 41, 25, 2]\n"
     ]
    }
   ],
   "source": [
    "input= [2,6,8,41,25,35]\n",
    "# output = [35,6,8,41,25,2]\n",
    "first = input[0]\n",
    "input[0] =input[5]\n",
    "input[5] = first\n",
    "print(\"Final List :\",input)"
   ]
  },
  {
   "cell_type": "markdown",
   "id": "f40659ee",
   "metadata": {},
   "source": [
    "### Replace the values based on position"
   ]
  },
  {
   "cell_type": "code",
   "execution_count": 8,
   "id": "2693594f",
   "metadata": {},
   "outputs": [
    {
     "name": "stdout",
     "output_type": "stream",
     "text": [
      "Final List : [9, 8, 5, 15, 20]\n"
     ]
    }
   ],
   "source": [
    "input = [5,8,9,15,20] \n",
    "po_1 = 1\n",
    "po_2 = 3\n",
    "# output = [9,8,5,15,20]\n",
    "first = input[po_1-1]\n",
    "input[po_1-1]=input[po_2-1]\n",
    "input[po_2-1] = first\n",
    "print(\"Final List :\",input)"
   ]
  },
  {
   "cell_type": "markdown",
   "id": "8aaa602f",
   "metadata": {},
   "source": [
    "### Find the middle element and return a that values"
   ]
  },
  {
   "cell_type": "code",
   "execution_count": 27,
   "id": "071104a9",
   "metadata": {},
   "outputs": [
    {
     "name": "stdout",
     "output_type": "stream",
     "text": [
      "Middle value: 9\n"
     ]
    }
   ],
   "source": [
    "def mid(input_list):\n",
    "    input_list.sort()\n",
    "    loc = len(input_list) // 2\n",
    "    return input_list[loc]  # always return the upper middle\n",
    "\n",
    "input = [2, 9, 8, 7, 18, 15, 28]\n",
    "result = mid(input)\n",
    "print(\"Middle value:\", result)"
   ]
  },
  {
   "cell_type": "markdown",
   "id": "2767469b",
   "metadata": {},
   "source": [
    "### Clear the list"
   ]
  },
  {
   "cell_type": "code",
   "execution_count": 39,
   "id": "fa1710d1",
   "metadata": {},
   "outputs": [
    {
     "name": "stdout",
     "output_type": "stream",
     "text": [
      "[]\n",
      "[]\n"
     ]
    }
   ],
   "source": [
    "list = [5,6,0,9,4]\n",
    "list2 = [5,6,8,20,1,20]\n",
    "del list[:]\n",
    "print(list)\n",
    "list2.clear()\n",
    "print(list2)"
   ]
  },
  {
   "cell_type": "markdown",
   "id": "304d87dc",
   "metadata": {},
   "source": [
    "### Reverce a list"
   ]
  },
  {
   "cell_type": "code",
   "execution_count": 44,
   "id": "a3c88aee",
   "metadata": {},
   "outputs": [
    {
     "name": "stdout",
     "output_type": "stream",
     "text": [
      "[16, 14, 12, 10, 8, 6, 4, 2]\n",
      "[16, 14, 12, 10, 8, 6, 4, 2]\n"
     ]
    }
   ],
   "source": [
    "list = [2,4,6,8,10,12,14,16]\n",
    "list2 = [2,4,6,8,10,12,14,16]\n",
    "# method - 1\n",
    "print(list[::-1])\n",
    "# method - 2\n",
    "list2.reverse()\n",
    "print(list2)"
   ]
  },
  {
   "cell_type": "markdown",
   "id": "a156448c",
   "metadata": {},
   "source": [
    "### square root"
   ]
  },
  {
   "cell_type": "code",
   "execution_count": 3,
   "id": "6eb5835c",
   "metadata": {},
   "outputs": [
    {
     "name": "stdout",
     "output_type": "stream",
     "text": [
      "8.0\n",
      "The Sqt of Number is : 8.0\n"
     ]
    }
   ],
   "source": [
    "import math\n",
    "num = 64\n",
    "nn = math.sqrt(num)\n",
    "print(nn)\n",
    "# method-2\n",
    "\n",
    "sq = num**(1/2)\n",
    "print(\"The Sqt of Number is :\",sq)"
   ]
  },
  {
   "cell_type": "markdown",
   "id": "6fa5068f",
   "metadata": {},
   "source": [
    "### how many time the number has return multiple times"
   ]
  },
  {
   "cell_type": "code",
   "execution_count": 29,
   "id": "efadefc0",
   "metadata": {},
   "outputs": [
    {
     "name": "stdout",
     "output_type": "stream",
     "text": [
      "The 5 is 7 times returns\n"
     ]
    }
   ],
   "source": [
    "num = [1,2,3,5,8,5,6,5,4,7,2,5,3,3,5,5,4,5]\n",
    "k = 5\n",
    "count = 0\n",
    "for  i in num:\n",
    "    if i == k :\n",
    "        count = count+1\n",
    "print(f\"The {k} is {count} times returns\")        "
   ]
  },
  {
   "cell_type": "code",
   "execution_count": 4,
   "id": "2d847099",
   "metadata": {},
   "outputs": [
    {
     "name": "stdout",
     "output_type": "stream",
     "text": [
      "The 3 is 7 times occuried \n"
     ]
    }
   ],
   "source": [
    "# without key_number\n",
    "num = [1,2,3,5,8,3,5,3,6,2,1,3,4,3,31,3,3]\n",
    "dic = {}\n",
    "for i in num:\n",
    "    if i in dic:\n",
    "        dic[i] += 1\n",
    "    else:\n",
    "        dic[i] = 1\n",
    "        \n",
    "max_count = 0\n",
    "max_num = 0\n",
    "\n",
    "for key,value in dic.items():\n",
    "    if value > max_count :\n",
    "        max_count = value\n",
    "        max_num = key\n",
    "        \n",
    "print(f\"The {max_num} is {max_count} times occuried \")        "
   ]
  },
  {
   "cell_type": "markdown",
   "id": "0ca62108",
   "metadata": {},
   "source": [
    "### sum of all elements"
   ]
  },
  {
   "cell_type": "code",
   "execution_count": 35,
   "id": "e7b07133",
   "metadata": {},
   "outputs": [
    {
     "name": "stdout",
     "output_type": "stream",
     "text": [
      "31\n"
     ]
    }
   ],
   "source": [
    "n = [1,8,5,6,7,4]\n",
    "sum = 0\n",
    "for i in n:\n",
    "    sum = sum + i\n",
    "print(sum)"
   ]
  },
  {
   "cell_type": "markdown",
   "id": "8ffe0b42",
   "metadata": {},
   "source": [
    "### multiplay all elements"
   ]
  },
  {
   "cell_type": "code",
   "execution_count": 36,
   "id": "5b8c60fd",
   "metadata": {},
   "outputs": [
    {
     "name": "stdout",
     "output_type": "stream",
     "text": [
      "the multiplay of all elements is 120\n"
     ]
    }
   ],
   "source": [
    "n = [2,5,6,2]\n",
    "mul = 1\n",
    "for i in n:\n",
    "    mul = mul* i\n",
    "print(f\"the multiplay of all elements is {mul}\")    "
   ]
  },
  {
   "cell_type": "markdown",
   "id": "8bc6722d",
   "metadata": {},
   "source": [
    "### small and largest number in a list"
   ]
  },
  {
   "cell_type": "code",
   "execution_count": 41,
   "id": "d36b60e6",
   "metadata": {},
   "outputs": [
    {
     "name": "stdout",
     "output_type": "stream",
     "text": [
      "None\n",
      "the smallest number is : 1\n",
      "the largest number is : 15\n"
     ]
    }
   ],
   "source": [
    "l = [1,5,6,3,4,9,15]\n",
    "ll=l.sort()\n",
    "print(ll)\n",
    "print(\"the smallest number is :\" ,l[0])\n",
    "print(\"the largest number is :\" , l[-1])"
   ]
  },
  {
   "cell_type": "markdown",
   "id": "a93df6fe",
   "metadata": {},
   "source": [
    "### Armstrong number"
   ]
  },
  {
   "cell_type": "code",
   "execution_count": 39,
   "id": "ba8cc123",
   "metadata": {},
   "outputs": [
    {
     "name": "stdout",
     "output_type": "stream",
     "text": [
      "this is not armstrong number\n"
     ]
    }
   ],
   "source": [
    "def arm_strong(number):\n",
    "    str_ = str(number)\n",
    "    lenn = len(str_)\n",
    "    input =sum ( int(digit)**lenn  for digit in str_)\n",
    "    return input== number\n",
    "\n",
    "num = 111\n",
    "if arm_strong(num):\n",
    "    print(\"this is armstrong number\")\n",
    "else :\n",
    "    print(\"this is not armstrong number\")"
   ]
  },
  {
   "cell_type": "markdown",
   "id": "92268d7e",
   "metadata": {},
   "source": [
    "### Lamda Function"
   ]
  },
  {
   "cell_type": "code",
   "execution_count": 19,
   "id": "3cc54215",
   "metadata": {},
   "outputs": [
    {
     "name": "stdout",
     "output_type": "stream",
     "text": [
      "1.0\n"
     ]
    }
   ],
   "source": [
    "result = lambda x,y: x/y\n",
    "print(result(5,5))    "
   ]
  },
  {
   "cell_type": "code",
   "execution_count": 3,
   "id": "d661ccc4",
   "metadata": {},
   "outputs": [
    {
     "name": "stdout",
     "output_type": "stream",
     "text": [
      "{1: 'a', 2: 'b', 3: 'c', 4: 'd'}\n"
     ]
    }
   ],
   "source": [
    "a = [1,2,3,4]\n",
    "b=[\"a\",\"b\",\"c\",\"d\"]\n",
    "dict = {}\n",
    "for key in range(len(a)):\n",
    "    dict[a[key]] = b[key]\n",
    "print(dict)    "
   ]
  },
  {
   "cell_type": "code",
   "execution_count": 12,
   "id": "e4f722f5",
   "metadata": {},
   "outputs": [
    {
     "name": "stdout",
     "output_type": "stream",
     "text": [
      "{1: 'a', 2: 'b', 3: 'c', 4: 'd'}\n"
     ]
    }
   ],
   "source": [
    "a = [1,2,3,4]\n",
    "b=[\"a\",\"b\",\"c\",\"d\"]\n",
    "zipped = zip(a,b)\n",
    "print(dict(zipped))"
   ]
  },
  {
   "cell_type": "code",
   "execution_count": 6,
   "id": "ab16630b",
   "metadata": {
    "scrolled": true
   },
   "outputs": [
    {
     "name": "stdout",
     "output_type": "stream",
     "text": [
      "[5, 6]\n"
     ]
    }
   ],
   "source": [
    "lis=[1,2,5,8,4,6,9]\n",
    "target = 15\n",
    "#output=[5,6]\n",
    "\n",
    "def target_m(lis):\n",
    "    for i in range(len(lis)):\n",
    "        for j in range(i+1,len(lis)):\n",
    "            if lis[j] +lis[i] == target:\n",
    "                return [i,j]  \n",
    "        \n",
    "lis=[1,2,5,8,4,6,9]   \n",
    "target = 15\n",
    "print(target_m(lis))"
   ]
  },
  {
   "cell_type": "code",
   "execution_count": 159,
   "id": "b9839a06",
   "metadata": {
    "scrolled": true
   },
   "outputs": [
    {
     "name": "stdout",
     "output_type": "stream",
     "text": [
      "10009998\n",
      "<class 'int'>\n",
      "[8, 9, 9, 9, 0, 0, 0, 1]\n",
      "<class 'list'>\n"
     ]
    }
   ],
   "source": [
    "#Input: \n",
    "l1 =[9,9,9,9,9,9,9]#[2,4,3]\n",
    "l2 = [9,9,9,9]#[5,6,4]\n",
    "\n",
    "#output: [7,0,8]\n",
    "\n",
    "join = int(\"\".join(map(str, l1)))\n",
    "join2 =int(\"\".join(map(str , l2)))\n",
    "\n",
    "add = join + join2\n",
    "print(add)\n",
    "print(type(add))\n",
    "result = list(map(int, str(add)[::-1]))\n",
    "print(result)\n",
    "print(type(result))"
   ]
  },
  {
   "cell_type": "code",
   "execution_count": 170,
   "id": "d4a6582e",
   "metadata": {
    "scrolled": false
   },
   "outputs": [
    {
     "name": "stdout",
     "output_type": "stream",
     "text": [
      "['a', 'ab', 'abc', 'abca', 'abcab', 'abcabc', 'abcabcb', 'abcabcbb', 'b', 'bc', 'bca', 'bcab', 'bcabc', 'bcabcb', 'bcabcbb', 'c', 'ca', 'cab', 'cabc', 'cabcb', 'cabcbb', 'a', 'ab', 'abc', 'abcb', 'abcbb', 'b', 'bc', 'bcb', 'bcbb', 'c', 'cb', 'cbb', 'b', 'bb', 'b']\n"
     ]
    }
   ],
   "source": [
    "s = \"abcabcbb\"\n",
    "\n",
    "iandj = [s[i:j] for i in range(len(s)+1) for j in range(i+1, len(s)+1)]\n",
    "print(iandj)"
   ]
  },
  {
   "cell_type": "code",
   "execution_count": 179,
   "id": "2ebc4100",
   "metadata": {
    "scrolled": false
   },
   "outputs": [
    {
     "name": "stdout",
     "output_type": "stream",
     "text": [
      "['a', 'ab', 'abc', 'b', 'bc', 'bca', 'c', 'ca', 'cab', 'a', 'ab', 'abc', 'b', 'bc', 'c', 'cb', 'b', 'b']\n"
     ]
    }
   ],
   "source": [
    "dup =[ sub for sub in iandj if len(set(sub)) == len(sub)]\n",
    "print(dup)"
   ]
  },
  {
   "cell_type": "code",
   "execution_count": 187,
   "id": "dcf450fd",
   "metadata": {},
   "outputs": [],
   "source": [
    "max_ = max(dup, key=len)"
   ]
  },
  {
   "cell_type": "code",
   "execution_count": 188,
   "id": "34b17461",
   "metadata": {
    "scrolled": false
   },
   "outputs": [
    {
     "name": "stdout",
     "output_type": "stream",
     "text": [
      "abc\n"
     ]
    }
   ],
   "source": [
    "print(max_)"
   ]
  },
  {
   "cell_type": "code",
   "execution_count": 189,
   "id": "9154ed0f",
   "metadata": {
    "scrolled": true
   },
   "outputs": [
    {
     "name": "stdout",
     "output_type": "stream",
     "text": [
      "3\n"
     ]
    }
   ],
   "source": [
    "print(len(max_))"
   ]
  },
  {
   "cell_type": "code",
   "execution_count": 215,
   "id": "80d1483a",
   "metadata": {},
   "outputs": [
    {
     "name": "stdout",
     "output_type": "stream",
     "text": [
      "3\n"
     ]
    }
   ],
   "source": [
    "nums1 = [1,3]\n",
    "nums2 = [2,4,5]\n",
    "merged =sorted(nums1+nums2)\n",
    "l = len(merged)\n",
    "if l % 2 == 1:\n",
    "    median = merged[l//2]\n",
    "else:\n",
    "    median = (merged[l//2 -1] + merged[l//2])/2\n",
    "\n",
    "print(median)\n"
   ]
  },
  {
   "cell_type": "code",
   "execution_count": 228,
   "id": "2ad7c030",
   "metadata": {},
   "outputs": [
    {
     "name": "stdout",
     "output_type": "stream",
     "text": [
      "bab\n",
      "\n"
     ]
    }
   ],
   "source": [
    "#input = \"babad\"\n",
    "#Output: \"bab\"\n",
    "\n",
    "def palindrom(s):\n",
    "    empt = \"\"\n",
    "    for i in range(len(s)):\n",
    "        for j in range(i+1,len(s)+1):\n",
    "            if s[i:j] == s[i:j][::-1]:\n",
    "                if len(s[i:j]) > len(empt):\n",
    "                    empt = s[i:j]\n",
    "    return empt                \n",
    "s = \"babad\"\n",
    "print(palindrom(s))\n",
    "print(empt)"
   ]
  },
  {
   "cell_type": "code",
   "execution_count": 11,
   "id": "69ff436a",
   "metadata": {},
   "outputs": [
    {
     "name": "stdout",
     "output_type": "stream",
     "text": [
      "{1: 3, 2: 4, 3: 2, 4: 2, 5: 4, 8: 2, 6: 1}\n"
     ]
    }
   ],
   "source": [
    "l = [1,2,3,4,5,8,3,5,5,1,2,6,4,2,8,5,1,2]\n",
    "d = {}\n",
    "for i in l:\n",
    "    if i in d:\n",
    "        d[i] +=1\n",
    "    else:\n",
    "        d[i] = 1\n",
    "print(d)        "
   ]
  },
  {
   "cell_type": "code",
   "execution_count": 10,
   "id": "9ce0d3de",
   "metadata": {},
   "outputs": [
    {
     "name": "stdout",
     "output_type": "stream",
     "text": [
      "{1: 'a', 2: 'b', 3: 'c'}\n"
     ]
    }
   ],
   "source": [
    "nums1 = [1,2,3]\n",
    "nums2 = [\"a\",\"b\",\"c\"]\n",
    "z = zip(nums1,nums2)\n",
    "print(dict(z))"
   ]
  },
  {
   "cell_type": "code",
   "execution_count": 17,
   "id": "cc63476c",
   "metadata": {},
   "outputs": [
    {
     "name": "stdout",
     "output_type": "stream",
     "text": [
      "-44\n"
     ]
    }
   ],
   "source": [
    "x=-440\n",
    "\n",
    "sign = -1 if x < 0 else 1\n",
    "x *= sign\n",
    "\n",
    "reverse = int(str(x)[::-1])\n",
    "reverse *= sign\n",
    "\n",
    "print(reverse)"
   ]
  },
  {
   "cell_type": "code",
   "execution_count": 1,
   "id": "6bc4a443",
   "metadata": {},
   "outputs": [],
   "source": [
    "l = \"word\"\n",
    "t = \"rdwo\"\n"
   ]
  },
  {
   "cell_type": "code",
   "execution_count": 34,
   "id": "4d0e4d91",
   "metadata": {
    "scrolled": true
   },
   "outputs": [
    {
     "name": "stdout",
     "output_type": "stream",
     "text": [
      "{1: 'a', 2: 'b', 3: 'c', 4: 'd'}\n",
      "{1: 'a', 2: 'b', 3: 'c', 4: 'd'}\n"
     ]
    }
   ],
   "source": [
    "a = [1,2,3,4]\n",
    "b=[\"a\",\"b\",\"c\",\"d\"]\n",
    "#output = {1:\"A\",2:\"B\",3:\"C\",4:\"D\"}\n",
    "emp_dic = {}\n",
    "for i in range(len(a)):\n",
    "    emp_dic[a[i]] = b[i]\n",
    "print(emp_dic) \n",
    "\n",
    "zipped = zip(a,b)\n",
    "print(dict(zipped))\n",
    "\n",
    "# dict only can only do key,value on loos "
   ]
  },
  {
   "cell_type": "code",
   "execution_count": 1,
   "id": "9535d572",
   "metadata": {},
   "outputs": [
    {
     "name": "stdout",
     "output_type": "stream",
     "text": [
      "3\n"
     ]
    }
   ],
   "source": [
    "def romanToInt(s):\n",
    "    roman_map = {\n",
    "        \"I\": 1, \"IV\": 4, \"V\": 5, \"IX\": 9,\n",
    "        \"X\": 10, \"XL\": 40, \"L\": 50, \"XC\": 90,\n",
    "        \"C\": 100, \"CD\": 400, \"D\": 500, \"CM\": 900,\n",
    "        \"M\": 1000\n",
    "    }\n",
    "    i = 0\n",
    "    count = 0\n",
    "    while i < len(s):\n",
    "        # Check two-character symbol first\n",
    "        if i + 1 < len(s) and s[i:i+2] in roman_map:\n",
    "            count += roman_map[s[i:i+2]]\n",
    "            i += 2\n",
    "        else:\n",
    "            count += roman_map[s[i]]\n",
    "            i += 1\n",
    "    return count\n",
    "\n",
    "# Example usage:\n",
    "s = \"III\"\n",
    "result = romanToInt(s)\n",
    "print(result)  # Output: 3\n"
   ]
  },
  {
   "cell_type": "code",
   "execution_count": 12,
   "id": "7ba68772",
   "metadata": {},
   "outputs": [
    {
     "name": "stdout",
     "output_type": "stream",
     "text": [
      "8\n"
     ]
    }
   ],
   "source": [
    "l = 9991952\n",
    "# output = 1   \n",
    "# explain = 9+9+9+1+9+9+9=55,=5+5=10, =1+0=1\n",
    "# Method - 1\n",
    "#print(9 if l%9==0 and l!=0 else l%9)\n",
    "# method - 2\n",
    "mer = list(map(int, str(l)))\n",
    "sum = 0\n",
    "final = 0\n",
    "for i in mer:\n",
    "    sum = sum+i\n",
    "    \n",
    "    merr = list (map(int, str(sum)))   \n",
    "for m in merr:\n",
    "    if len(merr) == 1 :\n",
    "        merr\n",
    "    else:\n",
    "        final = final + m\n",
    "if final>9 :\n",
    "    final = final%10+final/10\n",
    "print(final)   "
   ]
  },
  {
   "cell_type": "code",
   "execution_count": 1,
   "id": "6b3ccc04",
   "metadata": {},
   "outputs": [
    {
     "name": "stdout",
     "output_type": "stream",
     "text": [
      "[0, 1, 2, 3, 4]\n",
      "5\n"
     ]
    }
   ],
   "source": [
    "nums = [0,0,1,1,1,2,2,3,3,4]\n",
    "sort = set(nums)\n",
    "li = list(sort)\n",
    "print(li)\n",
    "print(len(li))"
   ]
  },
  {
   "cell_type": "code",
   "execution_count": 12,
   "id": "75c24cc4",
   "metadata": {},
   "outputs": [
    {
     "name": "stdout",
     "output_type": "stream",
     "text": [
      "5\n"
     ]
    }
   ],
   "source": [
    "l = [1,2,5,1,2,4,2,1,2,1,2,5,3]\n",
    "li = []\n",
    "for i in range(len(l)):\n",
    "    if l[i] not in li :\n",
    "        li.append(l[i])\n",
    "print(len(li))"
   ]
  },
  {
   "cell_type": "code",
   "execution_count": 10,
   "id": "8ee0fe97",
   "metadata": {},
   "outputs": [
    {
     "name": "stdout",
     "output_type": "stream",
     "text": [
      "[1, 2, 3, 4, 5]\n"
     ]
    }
   ],
   "source": [
    "l = [1,2,5,1,2,4,2,1,2,1,2,5,3]\n",
    "print(list(set(l)))"
   ]
  },
  {
   "cell_type": "code",
   "execution_count": 39,
   "id": "48c408a0",
   "metadata": {},
   "outputs": [
    {
     "name": "stdout",
     "output_type": "stream",
     "text": [
      "[3, 4]\n"
     ]
    }
   ],
   "source": [
    "num = [5,7,7,8,8,10]\n",
    "target = 8\n",
    "#Output: [3,4]\n",
    "st = []\n",
    "if not num :\n",
    "    st = [-1,-1]\n",
    "\n",
    "if target not in num :\n",
    "    st = [-1,-1]\n",
    "for i in range(len(num)):\n",
    "    if target == num[i] :\n",
    "        st.append(i)\n",
    "print(st)        "
   ]
  },
  {
   "cell_type": "code",
   "execution_count": 44,
   "id": "d01ca1d4",
   "metadata": {},
   "outputs": [
    {
     "name": "stdout",
     "output_type": "stream",
     "text": [
      "[4, 6]\n"
     ]
    }
   ],
   "source": [
    "num = [1,2,5,3,4,4,4,5,6]\n",
    "target = 4\n",
    "\n",
    "st = [-1, -1]  # default value if target not found\n",
    "\n",
    "for i in range(len(num)):\n",
    "    if num[i] == target:\n",
    "        if st[0] == -1:\n",
    "            st[0] = i  # first occurrence\n",
    "        st[1] = i      # keep updating last occurrence\n",
    "\n",
    "print(st)"
   ]
  },
  {
   "cell_type": "code",
   "execution_count": 53,
   "id": "2d0faefd",
   "metadata": {},
   "outputs": [
    {
     "name": "stdout",
     "output_type": "stream",
     "text": [
      "2\n"
     ]
    }
   ],
   "source": [
    "nums = [3,2,2,3]\n",
    "val = 3\n",
    "#Output: 2 like [2,2]\n",
    "\n",
    "i = 0\n",
    "while i < len(nums):\n",
    "    if val == nums[i]:\n",
    "        nums.pop(i)\n",
    "    else:\n",
    "        i +=1\n",
    "print(i)"
   ]
  },
  {
   "cell_type": "code",
   "execution_count": 18,
   "id": "60eedb1d",
   "metadata": {},
   "outputs": [
    {
     "name": "stdout",
     "output_type": "stream",
     "text": [
      "False\n"
     ]
    }
   ],
   "source": [
    "\n",
    "def simple(sim):\n",
    "    dic = {\"(\":\")\" , \"{\":\"}\", \"[\" :\"]\"}\n",
    "    li = []\n",
    "    for i in sim:\n",
    "        if i in dic.keys():\n",
    "            li.append(i)\n",
    "        else:\n",
    "            if li == []:\n",
    "                return False\n",
    "            else:\n",
    "                if dic[li[-1]] == i:\n",
    "                    li.pop()\n",
    "                else:\n",
    "                    return False\n",
    "                    \n",
    "                    \n",
    "    if li == []:\n",
    "        return True\n",
    "    else:\n",
    "        return False\n",
    "sim = \"()[\"                \n",
    "print(simple(sim)) \n"
   ]
  },
  {
   "cell_type": "code",
   "execution_count": 5,
   "id": "098098ff",
   "metadata": {},
   "outputs": [
    {
     "name": "stdout",
     "output_type": "stream",
     "text": [
      "[0, 1, 2, 3, 4, 5]\n",
      "4\n"
     ]
    }
   ],
   "source": [
    "a = [1,5,4,3,2,0]\n",
    "for i in range(len(a)):\n",
    "    for j in range(i+1,len(a)):\n",
    "        if a[i] > a[j] :\n",
    "            a[i],a[j] = a[j],a[i]\n",
    "            \n",
    "print(a)        \n",
    "print(a[-2])        "
   ]
  }
 ],
 "metadata": {
  "kernelspec": {
   "display_name": "Python 3 (ipykernel)",
   "language": "python",
   "name": "python3"
  },
  "language_info": {
   "codemirror_mode": {
    "name": "ipython",
    "version": 3
   },
   "file_extension": ".py",
   "mimetype": "text/x-python",
   "name": "python",
   "nbconvert_exporter": "python",
   "pygments_lexer": "ipython3",
   "version": "3.9.7"
  }
 },
 "nbformat": 4,
 "nbformat_minor": 5
}
