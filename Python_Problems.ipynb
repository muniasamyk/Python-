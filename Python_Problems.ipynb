{
 "cells": [
  {
   "cell_type": "code",
   "execution_count": null,
   "id": "76f7b831",
   "metadata": {},
   "outputs": [],
   "source": [
    "# 1.Create a list of 5 integers and print the sum of all elements. "
   ]
  },
  {
   "cell_type": "code",
   "execution_count": 3,
   "id": "807b4509",
   "metadata": {},
   "outputs": [
    {
     "name": "stdout",
     "output_type": "stream",
     "text": [
      "15\n"
     ]
    }
   ],
   "source": [
    "L1 = [1,2,3,4,5]\n",
    "summ = sum(L1)\n",
    "print(summ)"
   ]
  },
  {
   "cell_type": "code",
   "execution_count": null,
   "id": "1cc91826",
   "metadata": {},
   "outputs": [],
   "source": [
    "# 2.Create a tuple with the names of 3 cities and print the second city. "
   ]
  },
  {
   "cell_type": "code",
   "execution_count": 23,
   "id": "4df5127c",
   "metadata": {},
   "outputs": [
    {
     "name": "stdout",
     "output_type": "stream",
     "text": [
      "The set is  ('chennai', 'madurai', 'erode')\n",
      "The Sec city is :  madurai\n"
     ]
    }
   ],
   "source": [
    "names = (\"chennai\",\"madurai\",\"erode\")\n",
    "print(\"The set is \",names)\n",
    "sec = names[1]\n",
    "print(\"The Sec city is : \",sec)"
   ]
  },
  {
   "cell_type": "code",
   "execution_count": null,
   "id": "0b52c439",
   "metadata": {},
   "outputs": [],
   "source": [
    "# 3.Create a set of 4 unique numbers and check if a specific number is present in the set. "
   ]
  },
  {
   "cell_type": "code",
   "execution_count": 24,
   "id": "fa62288d",
   "metadata": {},
   "outputs": [
    {
     "name": "stdout",
     "output_type": "stream",
     "text": [
      "The Number 50 is here\n"
     ]
    }
   ],
   "source": [
    "firstset = {10,20,30,40,50}\n",
    "spe_num = 50\n",
    "if spe_num in firstset:\n",
    "    print(f\"The Number {spe_num} is here\")\n",
    "else:\n",
    "    print(f\"The Number {spe_num} is not here\")"
   ]
  },
  {
   "cell_type": "code",
   "execution_count": 25,
   "id": "ef3af24e",
   "metadata": {},
   "outputs": [],
   "source": [
    "# 4.Create a dictionary with three key-value pairs representing a student's name, age, and grade. Print the grade. "
   ]
  },
  {
   "cell_type": "code",
   "execution_count": 38,
   "id": "da0277de",
   "metadata": {},
   "outputs": [
    {
     "name": "stdout",
     "output_type": "stream",
     "text": [
      "The Dictionary is :  {'name': 'mani', 'age': 21, 'grade': 2}\n",
      "The Grade is :  2\n"
     ]
    }
   ],
   "source": [
    "students = {\"name\":\"mani\",\"age\":21,\"grade\":2}\n",
    "print(\"The Dictionary is : \",students)\n",
    "print(\"The Grade is : \",students[\"grade\"])"
   ]
  },
  {
   "cell_type": "code",
   "execution_count": null,
   "id": "7aaa9c5b",
   "metadata": {},
   "outputs": [],
   "source": [
    "# 5.Append a new item to an existing list and print the updated list. "
   ]
  },
  {
   "cell_type": "code",
   "execution_count": 39,
   "id": "e61c1782",
   "metadata": {},
   "outputs": [
    {
     "name": "stdout",
     "output_type": "stream",
     "text": [
      "[11, 22, 33, 44, 55, 66, 77, 'Hi']\n"
     ]
    }
   ],
   "source": [
    "l2 = [11,22,33,44,55,66,77]\n",
    "l2.append(\"Hi\")\n",
    "print(l2)"
   ]
  },
  {
   "cell_type": "code",
   "execution_count": null,
   "id": "e54eb6c7",
   "metadata": {},
   "outputs": [],
   "source": [
    "# 6.Write a program to find the maximum and minimum values in a list. "
   ]
  },
  {
   "cell_type": "code",
   "execution_count": 41,
   "id": "054dcfa2",
   "metadata": {},
   "outputs": [
    {
     "name": "stdout",
     "output_type": "stream",
     "text": [
      "The Max Number in The List : 100\n",
      "The Min Number in The List : 10\n"
     ]
    }
   ],
   "source": [
    "l3 = [10,45,12,100,86,14]\n",
    "MAX = max(l3)\n",
    "MIN =min(l3)\n",
    "print(\"The Max Number in The List :\",MAX)\n",
    "print(\"The Min Number in The List :\",MIN)\n"
   ]
  },
  {
   "cell_type": "code",
   "execution_count": null,
   "id": "6a9ba349",
   "metadata": {},
   "outputs": [],
   "source": [
    "# 7.Given a tuple of numbers, count the occurrence of a specific number."
   ]
  },
  {
   "cell_type": "code",
   "execution_count": 42,
   "id": "4d28685e",
   "metadata": {},
   "outputs": [
    {
     "name": "stdout",
     "output_type": "stream",
     "text": [
      "3\n"
     ]
    }
   ],
   "source": [
    "numbers = (1,2,3,4,5,6,1,7,8,9,10,1)\n",
    "spe = 1\n",
    "count = numbers.count(spe)\n",
    "print(count)"
   ]
  },
  {
   "cell_type": "code",
   "execution_count": null,
   "id": "49108531",
   "metadata": {},
   "outputs": [],
   "source": [
    "# 8.Create two sets and find their intersection and union. "
   ]
  },
  {
   "cell_type": "code",
   "execution_count": 45,
   "id": "474fdbe5",
   "metadata": {},
   "outputs": [
    {
     "name": "stdout",
     "output_type": "stream",
     "text": [
      "{70, 40, 10, 80, 50, 20, 90, 60, 30}\n",
      "{40, 50, 60}\n"
     ]
    }
   ],
   "source": [
    "set1 = {10,20,30,40,50,60}\n",
    "set2 = {40,50,60,70,80,90}\n",
    "union = set1 | set2\n",
    "print(union)\n",
    "intersection = set1 & set2\n",
    "print(intersection)"
   ]
  },
  {
   "cell_type": "code",
   "execution_count": null,
   "id": "31b4a103",
   "metadata": {},
   "outputs": [],
   "source": [
    "# 9.Write a program to update a dictionary with another dictionary's key-value pairs. "
   ]
  },
  {
   "cell_type": "code",
   "execution_count": 50,
   "id": "eed73d02",
   "metadata": {},
   "outputs": [
    {
     "name": "stdout",
     "output_type": "stream",
     "text": [
      "{'A': 50, 'B': 20, 'C': 100, 'D': 66, 'E': 55}\n"
     ]
    }
   ],
   "source": [
    "dic1 = {\"A\":10,\"B\":20,\"C\":30,\"D\":66}\n",
    "dic2 = {\"A\":50,\"E\":55,\"C\":100}\n",
    "dic1.update(dic2)\n",
    "print(dic1)"
   ]
  },
  {
   "cell_type": "code",
   "execution_count": null,
   "id": "34d435b2",
   "metadata": {},
   "outputs": [],
   "source": [
    "# 10.Remove duplicates from a list using a set. "
   ]
  },
  {
   "cell_type": "code",
   "execution_count": 7,
   "id": "0282a543",
   "metadata": {},
   "outputs": [
    {
     "name": "stdout",
     "output_type": "stream",
     "text": [
      "[33, 454, 7, 9, 11, 44, 22, 56]\n"
     ]
    }
   ],
   "source": [
    "l5 = [11,22,33,454,56,9,7,11,454,33,44,56,9,7]\n",
    "re_du = list(set(l5))\n",
    "print(re_du)\n"
   ]
  },
  {
   "cell_type": "code",
   "execution_count": null,
   "id": "ad4ae4f5",
   "metadata": {},
   "outputs": [],
   "source": [
    "# 11.Write a program to convert a list of tuples into a dictionary. "
   ]
  },
  {
   "cell_type": "code",
   "execution_count": 1,
   "id": "25e47233",
   "metadata": {},
   "outputs": [
    {
     "name": "stdout",
     "output_type": "stream",
     "text": [
      "[('A', 11), ('B', 222), ('C', 333), ('D', 444)]\n"
     ]
    }
   ],
   "source": [
    "dic3 = ([(\"A\",11),(\"B\",222),(\"C\",333),(\"D\",444) ])\n",
    "print(dic3)"
   ]
  },
  {
   "cell_type": "code",
   "execution_count": null,
   "id": "f6f7d982",
   "metadata": {},
   "outputs": [],
   "source": [
    "# 12.Check if two sets are disjoint and print the result."
   ]
  },
  {
   "cell_type": "code",
   "execution_count": 2,
   "id": "dee6f823",
   "metadata": {},
   "outputs": [
    {
     "name": "stdout",
     "output_type": "stream",
     "text": [
      "this is disjoint\n"
     ]
    }
   ],
   "source": [
    "setf = {1,2,3,4,5,6,7}\n",
    "sets = {8,9,10,11,12,13}\n",
    "disjoint = setf.isdisjoint(sets)\n",
    "if disjoint:\n",
    "    print(\"this is disjoint\")\n",
    "else:\n",
    "    print(\"this is not disjoint\")\n"
   ]
  },
  {
   "cell_type": "code",
   "execution_count": null,
   "id": "5c6bfeab",
   "metadata": {},
   "outputs": [],
   "source": [
    "# 13.Create a dictionary from two lists: one for keys and another for values. "
   ]
  },
  {
   "cell_type": "code",
   "execution_count": 5,
   "id": "f27d2461",
   "metadata": {},
   "outputs": [
    {
     "name": "stdout",
     "output_type": "stream",
     "text": [
      "{'name': 'kannan', 'age': 21, 'id': 1001, 'address': 'chennai'}\n"
     ]
    }
   ],
   "source": [
    "dic_list1 = [\"name\",\"age\",\"id\",\"address\"]\n",
    "dic_list2 = [\"kannan\",21,1001,\"chennai\"]\n",
    "dictionary = dict(zip(dic_list1,dic_list2))\n",
    "print(dictionary)"
   ]
  },
  {
   "cell_type": "code",
   "execution_count": null,
   "id": "d91b1d57",
   "metadata": {},
   "outputs": [],
   "source": [
    "# 14.Write a program to merge two dictionaries and resolve key conflicts by summing the values."
   ]
  },
  {
   "cell_type": "code",
   "execution_count": 5,
   "id": "709c6f4a",
   "metadata": {},
   "outputs": [
    {
     "name": "stdout",
     "output_type": "stream",
     "text": [
      "{'name': 'kumar', 'age': 29, 'address': 'chennai', 'company': 'Tcs', 'department': 'it', 'salary': 500000}\n"
     ]
    }
   ],
   "source": [
    "F_dict = {\"name\":\"kumar\",\"age\":29,\"address\":\"chennai\",\"company\":\"Tcs\"}\n",
    "S_dict = {\"company\":\"Tcs\",\"department\":\"it\",\"salary\":500000}\n",
    "merge_dict = F_dict | S_dict\n",
    "print(merge_dict)"
   ]
  },
  {
   "cell_type": "code",
   "execution_count": null,
   "id": "119acda7",
   "metadata": {},
   "outputs": [],
   "source": [
    "# 15.Write a program to find the symmetric difference between two sets. "
   ]
  },
  {
   "cell_type": "code",
   "execution_count": 7,
   "id": "e3663f2b",
   "metadata": {},
   "outputs": [
    {
     "name": "stdout",
     "output_type": "stream",
     "text": [
      "{1, 2, 3, 4, 8, 9, 10}\n",
      "{1, 2, 3, 4, 8, 9, 10}\n"
     ]
    }
   ],
   "source": [
    "set_F = {1,2,3,4,5,6,7}\n",
    "set_S = {5,6,7,8,9,10}\n",
    "sym = set_F.symmetric_difference(set_S)\n",
    "print(sym)\n",
    "sym2 = set_F ^ set_S\n",
    "print(sym2)\n"
   ]
  },
  {
   "cell_type": "code",
   "execution_count": null,
   "id": "2fddd50f",
   "metadata": {},
   "outputs": [],
   "source": [
    "# 17.Implement a program to count the frequency of elements in a list "
   ]
  },
  {
   "cell_type": "code",
   "execution_count": 11,
   "id": "d24d4fe0",
   "metadata": {},
   "outputs": [
    {
     "name": "stdout",
     "output_type": "stream",
     "text": [
      "Frequency of elements: {1: 3, 2: 2, 3: 2, 5: 3, 4: 3, 6: 2}\n"
     ]
    }
   ],
   "source": [
    "li = [1, 2, 3,5,4,2,6,5,1,4,3,5,1,6,4]\n",
    "frequency = {}\n",
    "for i in li:\n",
    "    if i in frequency:\n",
    "        frequency[i] += 1\n",
    "    else:\n",
    "        frequency[i] = 1\n",
    "print(\"Frequency of elements:\", frequency)\n"
   ]
  },
  {
   "cell_type": "code",
   "execution_count": null,
   "id": "76d3aa95",
   "metadata": {},
   "outputs": [],
   "source": [
    "# 16.Create a nested dictionary representing a product catalog with categories and subcategories. Print the items in a specific subcategory."
   ]
  },
  {
   "cell_type": "code",
   "execution_count": 3,
   "id": "9a60b93b",
   "metadata": {},
   "outputs": [
    {
     "name": "stdout",
     "output_type": "stream",
     "text": [
      "Items in Mobiles under Electronics: ['iPhone', 'Samsung Galaxy', 'OnePlus']\n",
      "Items in Women under Clothing: ['Dresses', 'Tops', 'Skirts']\n"
     ]
    }
   ],
   "source": [
    "product_catalog = {\n",
    "    \"Electronics\": {\n",
    "        \"Mobiles\": [\"iPhone\", \"Samsung Galaxy\", \"OnePlus\"],\n",
    "        \"Laptops\": [\"MacBook\", \"Dell Inspiron\", \"HP Pavilion\"]},\n",
    "    \"Clothing\": {\n",
    "        \"Men\": [\"T-shirts\", \"Jeans\", \"Jackets\"],\n",
    "        \"Women\": [\"Dresses\", \"Tops\", \"Skirts\"]}}\n",
    "def print_subcategory_items(category, subcategory):\n",
    "    if category in product_catalog:\n",
    "        if subcategory in product_catalog[category]:\n",
    "            print(f\"Items in {subcategory} under {category}: {product_catalog[category][subcategory]}\")\n",
    "        else:\n",
    "            print(f\"Subcategory '{subcategory}' not found under category '{category}'.\")\n",
    "    else:\n",
    "        print(f\"Category '{category}' not found in the catalog.\")\n",
    "print_subcategory_items(\"Electronics\", \"Mobiles\")\n",
    "print_subcategory_items(\"Clothing\", \"Women\")"
   ]
  },
  {
   "cell_type": "code",
   "execution_count": null,
   "id": "e8b38827",
   "metadata": {},
   "outputs": [],
   "source": [
    "# calculated in python"
   ]
  },
  {
   "cell_type": "code",
   "execution_count": null,
   "id": "2134b250",
   "metadata": {},
   "outputs": [],
   "source": [
    "first_input = int(input(\"First num :\"))\n",
    "sec_input = int(input(\"Second num :\"))\n",
    "operation = input(\"What is your opertion : \")\n",
    "\n",
    "if operation == '+':\n",
    "    result = first_input + sec_input\n",
    "    print(f\"The result is: {result}\")\n",
    "elif operation == '-':\n",
    "    result = first_input - sec_input\n",
    "    print(f\"The result is: {result}\")\n",
    "elif operation == '*':\n",
    "    result = first_input * sec_input\n",
    "    print(f\"The result is: {result}\")\n",
    "elif operation == '/':\n",
    "    result = first_input / sec_input\n",
    "    print(f\"The result is: {result}\")\n"
   ]
  },
  {
   "cell_type": "code",
   "execution_count": 1,
   "id": "1ea65c83",
   "metadata": {},
   "outputs": [
    {
     "name": "stdout",
     "output_type": "stream",
     "text": [
      "1\n",
      "2\n",
      "3\n",
      "4\n",
      "5\n",
      "6\n",
      "7\n",
      "8\n",
      "9\n",
      "10\n"
     ]
    }
   ],
   "source": [
    "no = 1\n",
    "while no <= 10:\n",
    "    print(no)\n",
    "    no +=1"
   ]
  },
  {
   "cell_type": "code",
   "execution_count": 2,
   "id": "e8378347",
   "metadata": {},
   "outputs": [
    {
     "name": "stdout",
     "output_type": "stream",
     "text": [
      "10\n",
      "9\n",
      "8\n",
      "7\n",
      "6\n",
      "5\n",
      "4\n",
      "3\n",
      "2\n",
      "1\n"
     ]
    }
   ],
   "source": [
    "n = 10\n",
    "while n >= 1:\n",
    "    print(n)\n",
    "    n -= 1"
   ]
  },
  {
   "cell_type": "code",
   "execution_count": null,
   "id": "08f6aa1f",
   "metadata": {},
   "outputs": [],
   "source": [
    "# break,continue and pass"
   ]
  },
  {
   "cell_type": "code",
   "execution_count": 7,
   "id": "7861af5b",
   "metadata": {},
   "outputs": [
    {
     "name": "stdout",
     "output_type": "stream",
     "text": [
      " The 7 Factorial is  : 5040\n"
     ]
    }
   ],
   "source": [
    "no = 7\n",
    "fac = 1\n",
    "for i in range(1,no+1):\n",
    "    fac *= i \n",
    "    \n",
    "print(f\" The {no} Factorial is  :\",fac)    \n",
    "    \n"
   ]
  },
  {
   "cell_type": "code",
   "execution_count": null,
   "id": "26341e39",
   "metadata": {},
   "outputs": [],
   "source": [
    "# prime or not number"
   ]
  },
  {
   "cell_type": "code",
   "execution_count": 4,
   "id": "334c7f27",
   "metadata": {},
   "outputs": [
    {
     "name": "stdout",
     "output_type": "stream",
     "text": [
      "9 is not prime number \n"
     ]
    }
   ],
   "source": [
    "n = 9\n",
    "for l in range(2,n):\n",
    "    if n%l == 0:\n",
    "        print(f\"{n} is not prime number \")\n",
    "        break\n",
    "else:\n",
    "    print(f\"{n} is prime number\")\n",
    "        \n",
    "        "
   ]
  },
  {
   "cell_type": "code",
   "execution_count": null,
   "id": "4c0ab488",
   "metadata": {},
   "outputs": [],
   "source": [
    "# print prime number"
   ]
  },
  {
   "cell_type": "code",
   "execution_count": 15,
   "id": "b06696bc",
   "metadata": {},
   "outputs": [
    {
     "name": "stdout",
     "output_type": "stream",
     "text": [
      "1\n",
      "2\n",
      "3\n",
      "5\n",
      "7\n",
      "11\n",
      "13\n",
      "17\n",
      "19\n"
     ]
    }
   ],
   "source": [
    "def primenumber(number):\n",
    "    for k in range(1,number+1):\n",
    "        for p in range(2,k):\n",
    "            if k%p == 0:\n",
    "                break\n",
    "        else:\n",
    "            print(k)\n",
    "primenumber(20)        "
   ]
  },
  {
   "cell_type": "code",
   "execution_count": 1,
   "id": "24f9a189",
   "metadata": {},
   "outputs": [
    {
     "name": "stdout",
     "output_type": "stream",
     "text": [
      "The highest number is: 99\n"
     ]
    }
   ],
   "source": [
    "numbers = [10, 25, 67, 89, 34, 99, 12]  \n",
    "highest_number = max(numbers)  \n",
    "print(\"The highest number is:\", highest_number)"
   ]
  },
  {
   "cell_type": "code",
   "execution_count": 8,
   "id": "447e889b",
   "metadata": {},
   "outputs": [
    {
     "name": "stdout",
     "output_type": "stream",
     "text": [
      "99\n"
     ]
    }
   ],
   "source": [
    "numbers = [10, 25, 67, 89, 34, 99, 12]\n",
    "numbers.sort()\n",
    "print(numbers[-1])"
   ]
  },
  {
   "cell_type": "code",
   "execution_count": 1,
   "id": "b96a19eb",
   "metadata": {},
   "outputs": [
    {
     "name": "stdout",
     "output_type": "stream",
     "text": [
      "0\n",
      "1\n",
      "2\n",
      "3\n",
      "4\n"
     ]
    }
   ],
   "source": [
    "# missing number\n",
    "arr = [1, 2, 3, 5]\n",
    "for i in range(len(arr)+1):\n",
    "    \n",
    "    \n",
    "    "
   ]
  },
  {
   "cell_type": "markdown",
   "id": "f2cfcfa4",
   "metadata": {},
   "source": [
    "## Stars"
   ]
  },
  {
   "cell_type": "code",
   "execution_count": 5,
   "id": "2bec4181",
   "metadata": {},
   "outputs": [
    {
     "name": "stdout",
     "output_type": "stream",
     "text": [
      "Enter your number :5\n",
      "***** \n",
      "***** \n",
      "***** \n",
      "***** \n",
      "***** \n"
     ]
    }
   ],
   "source": [
    "## two loop\n",
    "n = int(input(\"Enter your number :\"))\n",
    "for i in range(n):\n",
    "    for j in range(n):\n",
    "        print(\"*\", end = \"\")\n",
    "    print(\" \")    "
   ]
  },
  {
   "cell_type": "code",
   "execution_count": 11,
   "id": "fad7e3f9",
   "metadata": {},
   "outputs": [
    {
     "name": "stdout",
     "output_type": "stream",
     "text": [
      "Enter your number :5\n",
      "*****\n",
      "*****\n",
      "*****\n",
      "*****\n",
      "*****\n"
     ]
    }
   ],
   "source": [
    "## single loop\n",
    "n = int(input(\"Enter your number :\"))\n",
    "for i in range(n):\n",
    "    print(\"*\"*n)"
   ]
  },
  {
   "cell_type": "code",
   "execution_count": 18,
   "id": "4165328a",
   "metadata": {},
   "outputs": [
    {
     "name": "stdout",
     "output_type": "stream",
     "text": [
      "****\n",
      "****\n",
      "****\n",
      "****\n"
     ]
    }
   ],
   "source": [
    "n = 5\n",
    "for i in range(1,n):\n",
    "    print((n-1)*\"*\")"
   ]
  },
  {
   "cell_type": "code",
   "execution_count": 39,
   "id": "030f01d0",
   "metadata": {},
   "outputs": [
    {
     "name": "stdout",
     "output_type": "stream",
     "text": [
      "* * * * *  \n",
      "*       *  \n",
      "*       *  \n",
      "*       *  \n",
      "* * * * *  \n"
     ]
    }
   ],
   "source": [
    "n = 5\n",
    "for i in range(n):\n",
    "    for j in range(n):\n",
    "        if i == 0 or i == n-1 or j == 0 or j == n-1:\n",
    "            print(\"*\",end=\" \")\n",
    "        else:\n",
    "            print(\" \",end = \" \")\n",
    "    print(\" \")  "
   ]
  },
  {
   "cell_type": "code",
   "execution_count": 52,
   "id": "7c7b15d0",
   "metadata": {},
   "outputs": [
    {
     "name": "stdout",
     "output_type": "stream",
     "text": [
      "*  \n",
      "* *  \n",
      "*   *  \n",
      "* * * *  \n"
     ]
    }
   ],
   "source": [
    "n = 4\n",
    "for i in range(n):\n",
    "    for j in range(i+1):\n",
    "        if j == 0  or i == j or i == n-1 :\n",
    "            print(\"*\",end=\" \")\n",
    "        else:\n",
    "            print(\" \",end=\" \")\n",
    "    print(\" \")        \n",
    "            \n",
    "         "
   ]
  },
  {
   "cell_type": "code",
   "execution_count": 11,
   "id": "50897fff",
   "metadata": {},
   "outputs": [
    {
     "name": "stdout",
     "output_type": "stream",
     "text": [
      "*****\n",
      "****\n",
      "***\n",
      "**\n",
      "*\n"
     ]
    }
   ],
   "source": [
    "# method - 1\n",
    "n = 5\n",
    "for i in range(n,0,-1):\n",
    "    for j in range(i):\n",
    "        print(\"*\",end=\"\")\n",
    "    print(\"\")    "
   ]
  },
  {
   "cell_type": "code",
   "execution_count": 12,
   "id": "9db3907a",
   "metadata": {},
   "outputs": [
    {
     "name": "stdout",
     "output_type": "stream",
     "text": [
      "*****\n",
      "****\n",
      "***\n",
      "**\n",
      "*\n"
     ]
    }
   ],
   "source": [
    "# method - 2\n",
    "n = 5\n",
    "for i in range(n,0,-1):\n",
    "    print(\"*\"*i)"
   ]
  }
 ],
 "metadata": {
  "kernelspec": {
   "display_name": "Python 3 (ipykernel)",
   "language": "python",
   "name": "python3"
  },
  "language_info": {
   "codemirror_mode": {
    "name": "ipython",
    "version": 3
   },
   "file_extension": ".py",
   "mimetype": "text/x-python",
   "name": "python",
   "nbconvert_exporter": "python",
   "pygments_lexer": "ipython3",
   "version": "3.9.7"
  }
 },
 "nbformat": 4,
 "nbformat_minor": 5
}
