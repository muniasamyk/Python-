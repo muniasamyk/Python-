{
 "cells": [
  {
   "cell_type": "code",
   "execution_count": null,
   "id": "787fab94",
   "metadata": {},
   "outputs": [],
   "source": [
    "# 1.Write a function to calculate the square of a number"
   ]
  },
  {
   "cell_type": "code",
   "execution_count": 8,
   "id": "ded0e343",
   "metadata": {},
   "outputs": [
    {
     "name": "stdout",
     "output_type": "stream",
     "text": [
      "The square of 9 is: 81\n"
     ]
    }
   ],
   "source": [
    "def sqr_number(X):\n",
    "    return X * X\n",
    "\n",
    "X = 9\n",
    "square = square_number(X)\n",
    "print(f\"The square of {X} is:\",square)\n"
   ]
  },
  {
   "cell_type": "code",
   "execution_count": null,
   "id": "500e4a5c",
   "metadata": {},
   "outputs": [],
   "source": [
    "# 2.Define a function that accepts a string and returns its length. "
   ]
  },
  {
   "cell_type": "code",
   "execution_count": 13,
   "id": "b052e8bb",
   "metadata": {},
   "outputs": [
    {
     "name": "stdout",
     "output_type": "stream",
     "text": [
      "12\n"
     ]
    }
   ],
   "source": [
    "def string(s):\n",
    "    return len(s)\n",
    "\n",
    "data = string(\"hyper launch\")\n",
    "print(data)"
   ]
  },
  {
   "cell_type": "code",
   "execution_count": null,
   "id": "4ccb57f9",
   "metadata": {},
   "outputs": [],
   "source": [
    "# 3.Write a function to check if a number is even or odd. "
   ]
  },
  {
   "cell_type": "code",
   "execution_count": 2,
   "id": "b7f13f07",
   "metadata": {},
   "outputs": [
    {
     "name": "stdout",
     "output_type": "stream",
     "text": [
      "This number is even\n"
     ]
    }
   ],
   "source": [
    "def number(no):\n",
    "    if no%2 ==0:\n",
    "        print(f\"This number is even\")\n",
    "    else:\n",
    "        print(f\"This number is add\")\n",
    "        \n",
    "number(90)        "
   ]
  },
  {
   "cell_type": "code",
   "execution_count": null,
   "id": "31c10d29",
   "metadata": {},
   "outputs": [],
   "source": [
    "# 4.Create a function to return the maximum of three numbers. "
   ]
  },
  {
   "cell_type": "code",
   "execution_count": 11,
   "id": "8c7827d9",
   "metadata": {},
   "outputs": [
    {
     "name": "stdout",
     "output_type": "stream",
     "text": [
      "The Maximum of three number is : [75, 55, 48]\n"
     ]
    }
   ],
   "source": [
    "ll =[12,25,36,48,75,10,12,55]\n",
    "ll.sort()\n",
    "\n",
    "print(f\"The Maximum of three number is :\",ll[::-1][:3])\n"
   ]
  },
  {
   "cell_type": "code",
   "execution_count": null,
   "id": "0200bd60",
   "metadata": {},
   "outputs": [],
   "source": [
    "# 5.Use an if-else statement to check if a person is eligible to vote (age >= 18). "
   ]
  },
  {
   "cell_type": "code",
   "execution_count": 12,
   "id": "74d308d5",
   "metadata": {},
   "outputs": [
    {
     "name": "stdout",
     "output_type": "stream",
     "text": [
      "person is eligible to vote\n"
     ]
    }
   ],
   "source": [
    "person_age = 20\n",
    "if person_age >=18 :\n",
    "    print(\"person is eligible to vote\")\n",
    "else:\n",
    "    print(\"person is not eligible to vote\")"
   ]
  },
  {
   "cell_type": "code",
   "execution_count": null,
   "id": "a14185b3",
   "metadata": {},
   "outputs": [],
   "source": [
    "# 6.Write a function to calculate the factorial of a number using a for loop"
   ]
  },
  {
   "cell_type": "code",
   "execution_count": 13,
   "id": "31da1bc7",
   "metadata": {},
   "outputs": [
    {
     "name": "stdout",
     "output_type": "stream",
     "text": [
      " The 7 Factorial is  : 5040\n"
     ]
    }
   ],
   "source": [
    "no = 7\n",
    "fac = 1\n",
    "for i in range(1,no+1):\n",
    "    fac *= i \n",
    "    \n",
    "print(f\" The {no} Factorial is  :\",fac)    "
   ]
  },
  {
   "cell_type": "code",
   "execution_count": null,
   "id": "c20abdc1",
   "metadata": {},
   "outputs": [],
   "source": [
    "# 7.Use a while loop to print the first 10 natural numbers. "
   ]
  },
  {
   "cell_type": "code",
   "execution_count": 9,
   "id": "7a3539d4",
   "metadata": {},
   "outputs": [
    {
     "name": "stdout",
     "output_type": "stream",
     "text": [
      "1\n",
      "2\n",
      "3\n",
      "4\n",
      "5\n",
      "6\n",
      "7\n",
      "8\n",
      "9\n",
      "10\n"
     ]
    }
   ],
   "source": [
    "number = 1\n",
    "while number <= 10:\n",
    "    print(number)\n",
    "    number += 1  \n",
    "\n",
    "    "
   ]
  },
  {
   "cell_type": "code",
   "execution_count": null,
   "id": "f89327b5",
   "metadata": {},
   "outputs": [],
   "source": [
    "# 8.Write a program to determine if a given year is a leap year using conditional statements."
   ]
  },
  {
   "cell_type": "code",
   "execution_count": 14,
   "id": "d983fe7b",
   "metadata": {},
   "outputs": [
    {
     "name": "stdout",
     "output_type": "stream",
     "text": [
      "Enter The Year :2025\n",
      "This is not leap year\n"
     ]
    }
   ],
   "source": [
    "year = int(input(\"Enter The Year :\"))\n",
    "leap = \"This is a leap year\"\n",
    "not_leap = \"This is not leap year\"\n",
    "check = leap if (year%400 == 0) or (year%4 == 0 and year%100 !=0) else not_leap\n",
    "print(str(check))"
   ]
  },
  {
   "cell_type": "code",
   "execution_count": null,
   "id": "9d045bed",
   "metadata": {},
   "outputs": [],
   "source": [
    "# 9.Define a function to find the smallest number in a list"
   ]
  },
  {
   "cell_type": "code",
   "execution_count": 21,
   "id": "d9345513",
   "metadata": {},
   "outputs": [
    {
     "name": "stdout",
     "output_type": "stream",
     "text": [
      "this minimum value is :  [15]\n"
     ]
    }
   ],
   "source": [
    "li = [15,20,21,24,53,62,41,52,41,84]\n",
    "li.sort()\n",
    "print(\"this minimum value is : \",li[:1])\n",
    "    "
   ]
  },
  {
   "cell_type": "code",
   "execution_count": null,
   "id": "b5d1a002",
   "metadata": {},
   "outputs": [],
   "source": [
    "# 10.Write a function to reverse a string."
   ]
  },
  {
   "cell_type": "code",
   "execution_count": 23,
   "id": "0711b2e3",
   "metadata": {},
   "outputs": [
    {
     "name": "stdout",
     "output_type": "stream",
     "text": [
      "renutrof\n"
     ]
    }
   ],
   "source": [
    "s = \"fortuner\"\n",
    "print(s[::-1])"
   ]
  },
  {
   "cell_type": "code",
   "execution_count": null,
   "id": "39d045b8",
   "metadata": {},
   "outputs": [],
   "source": [
    "# 11.Define a function to check if a number is prime. "
   ]
  },
  {
   "cell_type": "code",
   "execution_count": 25,
   "id": "92a90922",
   "metadata": {},
   "outputs": [
    {
     "name": "stdout",
     "output_type": "stream",
     "text": [
      "this is a prime number\n"
     ]
    }
   ],
   "source": [
    "number = 11\n",
    "for i in range(2,number):\n",
    "    if number%i == 0:\n",
    "        print(f\"this is a not prime number\")\n",
    "        break\n",
    "else:\n",
    "    print(\"this is a prime number\")"
   ]
  },
  {
   "cell_type": "code",
   "execution_count": null,
   "id": "48191b26",
   "metadata": {},
   "outputs": [],
   "source": [
    "# 12.Write a program that uses a while loop to calculate the sum of digits of a given number. "
   ]
  },
  {
   "cell_type": "code",
   "execution_count": 3,
   "id": "ac3d6ab8",
   "metadata": {},
   "outputs": [
    {
     "name": "stdout",
     "output_type": "stream",
     "text": [
      "Enter a number: 45\n",
      "The sum of the digits of 45 is 9.\n"
     ]
    }
   ],
   "source": [
    "number = int(input(\"Enter a number: \"))\n",
    "sum_of_digits = sum(int(digit) for digit in str(abs(number)))\n",
    "\n",
    "print(f\"The sum of the digits of {number} is {sum_of_digits}.\")\n",
    "\n"
   ]
  },
  {
   "cell_type": "code",
   "execution_count": null,
   "id": "8cb828ae",
   "metadata": {},
   "outputs": [],
   "source": [
    "# 13.Create a function to find all prime numbers in a given range using nested loops. "
   ]
  },
  {
   "cell_type": "code",
   "execution_count": 6,
   "id": "195ad593",
   "metadata": {},
   "outputs": [
    {
     "name": "stdout",
     "output_type": "stream",
     "text": [
      "Prime numbers between 2 and 10: [2, 3, 5, 7]\n"
     ]
    }
   ],
   "source": [
    "def all_prime_num(start, end):\n",
    "    return [i for i in range(start, end + 1) if i > 1 and all(i % j != 0 for j in range(2, int(i ** 0.5) + 1))]\n",
    "\n",
    "start = 2\n",
    "end = 10\n",
    "prime = all_prime_num(start, end)\n",
    "print(f\"Prime numbers between {start} and {end}: {prime}\")\n",
    "\n",
    "    "
   ]
  },
  {
   "cell_type": "code",
   "execution_count": null,
   "id": "96c69e01",
   "metadata": {},
   "outputs": [],
   "source": [
    "#  14.Use if-elif-else statements to determine the grade of a student based on their marks. "
   ]
  },
  {
   "cell_type": "code",
   "execution_count": 9,
   "id": "896eade2",
   "metadata": {},
   "outputs": [
    {
     "name": "stdout",
     "output_type": "stream",
     "text": [
      "Enter the students marks : 45\n",
      "The student's grade is: D\n",
      "None\n"
     ]
    }
   ],
   "source": [
    "def grade_function(marks):\n",
    "    if marks >= 90:\n",
    "        grade = \"A+\"\n",
    "    elif marks >= 80:\n",
    "        grade = \"A\"\n",
    "    elif marks >= 70:\n",
    "        grade = \"B+\"\n",
    "    elif marks >= 60:\n",
    "        grade = \"B\"\n",
    "    elif marks >= 50:\n",
    "        grade = \"C\"\n",
    "    elif marks >= 40:\n",
    "        grade = \"D\"\n",
    "    else:\n",
    "        grade = \"F\"\n",
    "    print(f\"The student's grade is: {grade}\")\n",
    "marks = float(input(\"Enter the students marks : \"))\n",
    "call = grade_function(marks)\n",
    "print(call)\n"
   ]
  },
  {
   "cell_type": "code",
   "execution_count": null,
   "id": "7974c73e",
   "metadata": {},
   "outputs": [],
   "source": [
    "# 15.Write a program that uses a while loop to reverse a number. "
   ]
  },
  {
   "cell_type": "code",
   "execution_count": null,
   "id": "3a9b3acc",
   "metadata": {},
   "outputs": [],
   "source": [
    "number = int(input(\"Enter a number:\"))\n",
    "reversed_number = 0\n",
    "n = abs(number)  \n",
    "while n > 0:\n",
    "    digit = n % 10  \n",
    "    reversed_number = reversed_number * 10 + digit  \n",
    "    n = n // 10  \n",
    "if number < 0:\n",
    "    reversed_number = -reversed_number\n",
    "print(f\"The reversed number is: {reversed_number}\")\n"
   ]
  },
  {
   "cell_type": "code",
   "execution_count": null,
   "id": "761412b5",
   "metadata": {},
   "outputs": [],
   "source": [
    "# 16.Define a function to return the sum of elements in a 2D list. "
   ]
  },
  {
   "cell_type": "code",
   "execution_count": 3,
   "id": "93abfe2d",
   "metadata": {},
   "outputs": [
    {
     "name": "stdout",
     "output_type": "stream",
     "text": [
      "Sum of all : 45\n"
     ]
    }
   ],
   "source": [
    "def sum_2d_list(matrix):\n",
    "    total_sum = 0\n",
    "    for row in matrix:\n",
    "        total_sum += sum(row)  \n",
    "    return total_sum\n",
    "elements = [[1, 2, 3],[4, 5, 6],[7, 8, 9]]\n",
    "result = sum_2d_list(elements)\n",
    "print(\"Sum of all :\", result)"
   ]
  },
  {
   "cell_type": "code",
   "execution_count": null,
   "id": "95d11934",
   "metadata": {},
   "outputs": [],
   "source": [
    "# 17.Define a function to calculate the factorial of a number. "
   ]
  },
  {
   "cell_type": "code",
   "execution_count": 12,
   "id": "52f4b67b",
   "metadata": {},
   "outputs": [
    {
     "name": "stdout",
     "output_type": "stream",
     "text": [
      "The Factorial 5 is : 120\n"
     ]
    }
   ],
   "source": [
    "def factorial(number):\n",
    "    fact = 1\n",
    "    for i in range(1,number+1):\n",
    "        fact *= i\n",
    "        \n",
    "    return fact    \n",
    "number = 5\n",
    "call = factorial(number)\n",
    "print(f\"The Factorial {number} is :\",call)\n",
    "        \n",
    "        \n",
    "    "
   ]
  },
  {
   "cell_type": "code",
   "execution_count": null,
   "id": "adf0d1b1",
   "metadata": {},
   "outputs": [],
   "source": [
    "#  18.Create a list of 5 integers and print the sum of all elements. "
   ]
  },
  {
   "cell_type": "code",
   "execution_count": 18,
   "id": "5a69eee7",
   "metadata": {},
   "outputs": [
    {
     "name": "stdout",
     "output_type": "stream",
     "text": [
      "The sum of list is  : 28\n"
     ]
    }
   ],
   "source": [
    "list = [1,5,6,4,12]\n",
    "sum = 0\n",
    "for i in list :\n",
    "    sum += i\n",
    "print(f\"The sum of list is  :\",sum)\n",
    "   "
   ]
  },
  {
   "cell_type": "code",
   "execution_count": null,
   "id": "39034c6b",
   "metadata": {},
   "outputs": [],
   "source": [
    "# 19.Implement a program to count the frequency of elements in a list using a dictionary. "
   ]
  },
  {
   "cell_type": "code",
   "execution_count": 20,
   "id": "4b286456",
   "metadata": {},
   "outputs": [
    {
     "data": {
      "text/plain": [
       "{10: 2, 20: 5, 30: 4, 40: 2, 50: 2}"
      ]
     },
     "execution_count": 20,
     "metadata": {},
     "output_type": "execute_result"
    }
   ],
   "source": [
    "def frq(li):\n",
    "    dict = {}\n",
    "    for ele in li :\n",
    "        if ele not in dict:\n",
    "            dict[ele] = 1\n",
    "        else:\n",
    "            dict[ele] += 1\n",
    "    return dict        \n",
    "li = [10,20,30,30,30,30,40,10,20,20,50,40,50,20,20]\n",
    "frq(li)"
   ]
  },
  {
   "cell_type": "code",
   "execution_count": null,
   "id": "86e269b6",
   "metadata": {},
   "outputs": [],
   "source": [
    "# 20.Create your own code with your understanding of python and creativty "
   ]
  },
  {
   "cell_type": "code",
   "execution_count": 21,
   "id": "8f282aec",
   "metadata": {},
   "outputs": [
    {
     "name": "stdout",
     "output_type": "stream",
     "text": [
      "Python is a not a program its a world\n"
     ]
    }
   ],
   "source": [
    "print(\"Python is a not a program its a world\")"
   ]
  },
  {
   "cell_type": "code",
   "execution_count": 1,
   "id": "4a30b916",
   "metadata": {},
   "outputs": [],
   "source": [
    "# random number"
   ]
  },
  {
   "cell_type": "code",
   "execution_count": 6,
   "id": "b1282ebf",
   "metadata": {},
   "outputs": [
    {
     "name": "stdout",
     "output_type": "stream",
     "text": [
      "0.34719703128460466\n"
     ]
    }
   ],
   "source": [
    "import random \n",
    "num = random.random()\n",
    "print(num)"
   ]
  },
  {
   "cell_type": "code",
   "execution_count": null,
   "id": "ba69c9e0",
   "metadata": {},
   "outputs": [],
   "source": [
    "# armstrong number"
   ]
  },
  {
   "cell_type": "code",
   "execution_count": null,
   "id": "6b24f4a9",
   "metadata": {},
   "outputs": [
    {
     "name": "stdout",
     "output_type": "stream",
     "text": [
      "Enter the number :2000\n"
     ]
    }
   ],
   "source": [
    "num = int(input(\"Enter the number :\"))\n",
    "sum = 0\n",
    "temp = num\n",
    "while num > 0 :\n",
    "    div = temp % 10\n",
    "    sum = sum + (div ** 3)\n",
    "    temp = temp // 10\n",
    "if num == sum :\n",
    "    print(f\"{num} ii armstrong number\")\n",
    "else:\n",
    "    print(\"in this number is not armstrong number\")\n",
    "    "
   ]
  }
 ],
 "metadata": {
  "kernelspec": {
   "display_name": "Python 3 (ipykernel)",
   "language": "python",
   "name": "python3"
  },
  "language_info": {
   "codemirror_mode": {
    "name": "ipython",
    "version": 3
   },
   "file_extension": ".py",
   "mimetype": "text/x-python",
   "name": "python",
   "nbconvert_exporter": "python",
   "pygments_lexer": "ipython3",
   "version": "3.9.7"
  }
 },
 "nbformat": 4,
 "nbformat_minor": 5
}
